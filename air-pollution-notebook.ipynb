{
 "cells": [
  {
   "cell_type": "markdown",
   "metadata": {},
   "source": [
    "# Azure databricks notebook\n",
    "Keep in mind that this notebook does not work as a standalone piece of code. Databricks automatically creates spark session, which is not created here."
   ]
  },
  {
   "cell_type": "code",
   "execution_count": null,
   "metadata": {
    "application/vnd.databricks.v1+cell": {
     "cellMetadata": {
      "byteLimit": 2048000,
      "rowLimit": 10000
     },
     "inputWidgets": {},
     "nuid": "744efd0b-02ed-47b6-ba61-4d17b8f6397f",
     "showTitle": false,
     "title": ""
    }
   },
   "outputs": [],
   "source": [
    "# import the needed libraries\n",
    "import requests\n",
    "import pandas as pd\n",
    "import ast\n",
    "import datetime\n",
    "import os\n",
    "import time"
   ]
  },
  {
   "cell_type": "code",
   "execution_count": null,
   "metadata": {
    "application/vnd.databricks.v1+cell": {
     "cellMetadata": {
      "byteLimit": 2048000,
      "rowLimit": 10000
     },
     "inputWidgets": {},
     "nuid": "e9aff4b8-47f4-4035-88a8-0202c2c1d096",
     "showTitle": false,
     "title": ""
    }
   },
   "outputs": [],
   "source": [
    "# define a function for getting the data from API\n",
    "def get_weather_info(city_name, lat, lon, api_key = \"<API key>\"):\n",
    "    result = requests.get(f\"http://api.openweathermap.org/data/2.5/air_pollution?lat={lat}&lon={lon}&appid={api_key}\")\n",
    "    print(f\"{city_name}: {result}\")\n",
    "    result = result.__dict__['_content']\n",
    "    result = result.decode(\"UTF-8\")\n",
    "    result = ast.literal_eval(result)\n",
    "    return result"
   ]
  },
  {
   "cell_type": "code",
   "execution_count": null,
   "metadata": {
    "application/vnd.databricks.v1+cell": {
     "cellMetadata": {
      "byteLimit": 2048000,
      "rowLimit": 10000
     },
     "inputWidgets": {},
     "nuid": "896a5337-f2a8-4c93-8187-8d737dac4263",
     "showTitle": false,
     "title": ""
    }
   },
   "outputs": [],
   "source": [
    "# define a function for extracting the needed data from binary dictionary\n",
    "def transform_dict(input, city_name):\n",
    "    comps = ['co', 'no', 'no2', 'o3', 'so2', 'pm2_5', 'pm10', 'nh3']\n",
    "    \n",
    "    result = {\n",
    "        'datetime': datetime.datetime.fromtimestamp(input['list'][0]['dt']),\n",
    "        'city_name': city_name,\n",
    "        'components': input['list'][0]['components']\n",
    "    }\n",
    "\n",
    "    for comp in comps:\n",
    "        result[comp] = result['components'][comp]\n",
    "    \n",
    "    return result"
   ]
  },
  {
   "cell_type": "code",
   "execution_count": null,
   "metadata": {
    "application/vnd.databricks.v1+cell": {
     "cellMetadata": {
      "byteLimit": 2048000,
      "rowLimit": 10000
     },
     "inputWidgets": {},
     "nuid": "7cfb990c-65ee-4a79-9fd4-3d4f886f1114",
     "showTitle": false,
     "title": ""
    }
   },
   "outputs": [],
   "source": [
    "# create list of cities with their coordinates\n",
    "cities = [\n",
    "    {'name': \"Istanbul\", 'coords': [41.013611, 28.955]},\n",
    "    {'name': \"Moscow\", 'coords': [55.75, 37.616667]},\n",
    "    {'name': \"London\", 'coords': [51.504170004107046, -0.1194611248711073]},\n",
    "    {'name': \"St Petersburg\", 'coords': [59.93110937948638, 30.363516140439522]},\n",
    "    {'name': \"Berlin\", 'coords': [52.51170651354087, 13.41361710195995]},\n",
    "    {'name': \"Madrid\", 'coords': [40.4144891173105, -3.694686505477918]},\n",
    "    {'name': \"Rome\", 'coords': [41.89729488284909, 12.49582913148365]},\n",
    "    {'name': \"Kiev\", 'coords': [50.44917520587561, 30.529807429835913]},\n",
    "    {'name': \"Paris\", 'coords': [48.856579934739976, 2.346998121599381]},\n",
    "    {'name': \"Bucharest\", 'coords': [44.42264357429106, 26.097343584279603]},\n",
    "    {'name': \"Budapest\", 'coords': [47.4993022596122, 19.04374762284502]},\n",
    "    {'name': \"Hamburg\", 'coords': [53.54833073502459, 9.986840272009005]},\n",
    "    {'name': \"Minsk\", 'coords': [53.899364736590755, 27.55756696023462]},\n",
    "    {'name': \"Warsaw\", 'coords': [52.22827518265219, 21.00760182280719]},\n",
    "    {'name': \"Belgrade\", 'coords': [44.80892774759441, 20.46375548518806]},\n",
    "    {'name': \"Vienna\", 'coords': [48.20465870424358, 16.374529363925667]},\n",
    "    {'name': \"Kharkiv\", 'coords': [49.98971197425672, 36.245963362740795]},\n",
    "    {'name': \"Barcelona\", 'coords': [41.396968059851055, 2.177316056003728]},\n",
    "    {'name': \"Novosibirsk\", 'coords': [54.98765966860813, 82.8903219850264]},\n",
    "    {'name': \"Nizhny Novogorod\", 'coords': [56.31789365348282, 43.9419231781059]},\n",
    "    {'name': \"Milan\", 'coords': [45.46309744125095, 9.188021882331142]},\n",
    "    {'name': \"Yekaterinburg\", 'coords': [56.84020986982188, 60.603536657093244]},\n",
    "    {'name': \"Munich\", 'coords': [48.134282078968155, 11.585743582754201]},\n",
    "    {'name': \"Prague\", 'coords': [50.086015365953436, 14.440253312897223]},\n",
    "    {'name': \"Samara\", 'coords': [53.20927739318431, 50.14987747329034]},\n",
    "    {'name': \"Omsk\", 'coords': [54.96518430411747, 73.34778076649457]},\n",
    "    {'name': \"Sofia\", 'coords': [42.689914669201336, 23.322531481692884]},\n",
    "    {'name': \"Dnipropetrovsk\", 'coords': [48.46746625145549, 35.05292890591869]},\n",
    "    {'name': \"Kazan\", 'coords': [55.785291497170974, 49.12851061005173]},\n",
    "    {'name': \"Ufa\", 'coords': [54.7330200694228, 55.95725745542502]},\n",
    "    {'name': \"Chelyabinsk\", 'coords': [55.16471277893009, 61.42881133336607]},\n",
    "    {'name': \"Donetsk\", 'coords': [48.01130562373803, 37.80286486289703]},\n",
    "    {'name': \"Naples\", 'coords': [40.85144733241689, 14.266546857532795]},\n",
    "    {'name': \"Birmingham\", 'coords': [52.481841355258105, -1.8870111399839626]},\n",
    "    {'name': \"Perm\", 'coords': [57.99841737852766, 56.23691605155155]},\n",
    "    {'name': \"Rostov-on-Don\", 'coords': [47.23436436304084, 39.711283145842586]},\n",
    "    {'name': \"Odessa\", 'coords': [46.479118559117225, 30.726787066311267]},\n",
    "    {'name': \"Volgograd\", 'coords': [48.705308481348396, 44.513536915351665]},\n",
    "    {'name': \"Cologne\", 'coords': [50.93734081251699, 6.9549276730997915]},\n",
    "    {'name': \"Turin\", 'coords': [45.071915985442104, 7.684522816833888]},\n",
    "    {'name': \"Voronezh\", 'coords': [51.666656734979604, 39.190653585642856]},\n",
    "    {'name': \"Krasnoyarsk\", 'coords': [56.01744305703123, 92.88112871952929]},\n",
    "    {'name': \"Saratov\", 'coords': [51.54331878590676, 46.0135608113927]},\n",
    "    {'name': \"Zagreb\", 'coords': [45.810647035231554, 15.979847313846996]},\n",
    "    {'name': \"Zaporizhzhia\", 'coords': [47.83708916309367, 35.14402046526135]},\n",
    "    {'name': \"Lodz\", 'coords': [51.75903368477017, 19.457811119128234]},\n",
    "    {'name': \"Marseille\", 'coords': [43.29393854629416, 5.3676434211237725]},\n",
    "    {'name': \"Riga\", 'coords': [56.955992562056245, 24.103090910411698]},\n",
    "    {'name': \"Lviv\", 'coords': [49.8335278676239, 24.02818652880955]},\n",
    "    {'name': \"Athens\", 'coords': [37.9835026621704, 23.728208475318645]},\n",
    "    {'name': \"Thessaloniki\", 'coords': [40.63839776688403, 22.942774390831342]},\n",
    "    {'name': \"Stockholm\", 'coords': [59.32854920599373, 18.06680133759516]},\n",
    "    {'name': \"Kraków\", 'coords': [50.060849718993204, 19.94509903911081]},\n",
    "    {'name': \"Valencia\", 'coords': [39.4683822821822, -0.37570069974561665]},\n",
    "    {'name': \"Amsterdam\", 'coords': [52.36658669527081, 4.896396253589842]},\n",
    "    {'name': \"Leeds\", 'coords': [53.79906432403618, -1.5440081004778312]},\n",
    "    {'name': \"Tolyatti\", 'coords': [53.51190716823151, 49.40654222437237]},\n",
    "    {'name': \"Kryvyi Rih\", 'coords': [47.9087533762273, 33.38648188708254]},\n",
    "    {'name': \"Seville\", 'coords': [37.386714915856395, -5.988029448910386]},\n",
    "    {'name': \"Palermo\", 'coords': [38.11450213949013, 13.362513798379831]},\n",
    "    {'name': \"Ulyanovsk\", 'coords': [54.3180665267727, 48.39067818929474]},\n",
    "    {'name': \"Kishinev\", 'coords': [47.00958458756508, 28.86640571813421]},\n",
    "    {'name': \"Genoa\", 'coords': [44.405698660586935, 8.948615502876631]},\n",
    "    {'name': \"Izhevsk\", 'coords': [56.86187597001293, 53.222574052415425]},\n",
    "    {'name': \"Frankfurt\", 'coords': [50.11194148347948, 8.67909661572005]},\n",
    "    {'name': \"Krasnodar\", 'coords': [45.034002478560375, 38.978404612828015]},\n",
    "    {'name': \"Wroclaw\", 'coords': [51.10764648727342, 17.036670313347358]},\n",
    "    {'name': \"Glasgow\", 'coords': [55.86272888139115, -4.251718814287872]},\n",
    "    {'name': \"Yaroslavl\", 'coords': [57.623661606535855, 39.887310705344035]},\n",
    "    {'name': \"Khabarovsk\", 'coords': [48.48020525094305, 135.066724708675]},\n",
    "    {'name': \"Vladivostok\", 'coords': [43.13315645233101, 131.91099362464485]},\n",
    "    {'name': \"Zaragoza\", 'coords': [41.64832697047085, -0.8894906305173467]},\n",
    "    {'name': \"Essen\", 'coords': [51.454189829312334, 7.01205901508707]},\n",
    "    {'name': \"Rotterdam\", 'coords': [51.924587067371654, 4.477549549725197]},\n",
    "    {'name': \"Irkutsk\", 'coords': [52.285044249346576, 104.28518224814201]},\n",
    "    {'name': \"Dortmund\", 'coords': [51.51169812588056, 7.471597754944833]},\n",
    "    {'name': \"Stuttgart\", 'coords': [48.77602613573551, 9.181294762393282]},\n",
    "    {'name': \"Barnaul\", 'coords': [53.34379380555242, 83.78594132064147]},\n",
    "    {'name': \"Vilnius\", 'coords': [54.68526366035061, 25.281305332525736]},\n",
    "    {'name': \"Poznan\", 'coords': [52.40593708865194, 16.92772110407561]},\n",
    "    {'name': \"Dusseldorf\", 'coords': [51.22617981905155, 6.771177112950843]},\n",
    "    {'name': \"Novokuznetsk\", 'coords': [53.76052054554526, 87.1218055025053]},\n",
    "    {'name': \"Lisbon\", 'coords': [38.7217886159164, -9.139689772587582]},\n",
    "    {'name': \"Helsinki\", 'coords': [60.16943411012721, 24.939319966333052]},\n",
    "    {'name': \"Malaga\", 'coords': [36.72031828488467, -4.421732816160877]},\n",
    "    {'name': \"Bremen\", 'coords': [53.076837834066104, 8.79636183016191]},\n",
    "    {'name': \"Sheffield\", 'coords': [53.37987062204897, -1.4688431716281212]},\n",
    "    {'name': \"Sarajevo\", 'coords': [43.856001904615766, 18.41071014049277]},\n",
    "    {'name': \"Penza\", 'coords': [53.2237945555763, 45.00118307686343]},\n",
    "    {'name': \"Ryazan\", 'coords': [54.608614519138, 39.71358653445411]},\n",
    "    {'name': \"Orenburg\", 'coords': [51.76814289162626, 55.096323694247076]},\n",
    "    {'name': \"Naberezhnye Chelny\", 'coords': [55.73021095559491, 52.388183093879775]},\n",
    "    {'name': \"Duisburg\", 'coords': [51.43413049037996, 6.770492803128714]},\n",
    "    {'name': \"Lipetsk\", 'coords': [52.60924339342072, 39.59815658180228]},\n",
    "    {'name': \"Hannover\", 'coords': [52.373341401226185, 9.733968340368945]},\n",
    "    {'name': \"Mykolaiv\", 'coords': [46.97443122773534, 31.994173594455017]},\n",
    "    {'name': \"Tula\", 'coords': [54.20438587528549, 37.6164514172862]},\n",
    "    {'name': \"Oslo\", 'coords': [59.91616973099104, 10.750753676377329]},\n",
    "    {'name': \"Tyumen\", 'coords': [57.14998576347368, 65.57704612185711]},\n",
    "    {'name': \"Copenhagen\", 'coords': [55.67547415324423, 12.580056584668982]},\n",
    "    {'name': \"Kemerovo\", 'coords': [55.33969063261753, 86.06195649178275]},\n",
    "]"
   ]
  },
  {
   "cell_type": "code",
   "execution_count": null,
   "metadata": {
    "application/vnd.databricks.v1+cell": {
     "cellMetadata": {
      "byteLimit": 2048000,
      "rowLimit": 10000
     },
     "inputWidgets": {},
     "nuid": "e16ee61f-243a-4105-90e5-f9c1caba3400",
     "showTitle": false,
     "title": ""
    }
   },
   "outputs": [
    {
     "name": "stdout",
     "output_type": "stream",
     "text": [
      "Istanbul: <Response [200]>\n",
      "Moscow: <Response [200]>\n",
      "London: <Response [200]>\n",
      "St Petersburg: <Response [200]>\n",
      "Berlin: <Response [200]>\n",
      "Madrid: <Response [200]>\n",
      "Rome: <Response [200]>\n",
      "Kiev: <Response [200]>\n",
      "Paris: <Response [200]>\n",
      "Bucharest: <Response [200]>\n",
      "Budapest: <Response [200]>\n",
      "Hamburg: <Response [200]>\n",
      "Minsk: <Response [200]>\n",
      "Warsaw: <Response [200]>\n",
      "Belgrade: <Response [200]>\n",
      "Vienna: <Response [200]>\n",
      "Kharkiv: <Response [200]>\n",
      "Barcelona: <Response [200]>\n",
      "Novosibirsk: <Response [200]>\n",
      "Nizhny Novogorod: <Response [200]>\n",
      "Milan: <Response [200]>\n",
      "Yekaterinburg: <Response [200]>\n",
      "Munich: <Response [200]>\n",
      "Prague: <Response [200]>\n",
      "Samara: <Response [200]>\n",
      "Omsk: <Response [200]>\n",
      "Sofia: <Response [200]>\n",
      "Dnipropetrovsk: <Response [200]>\n",
      "Kazan: <Response [200]>\n",
      "Ufa: <Response [200]>\n",
      "Chelyabinsk: <Response [200]>\n",
      "Donetsk: <Response [200]>\n",
      "Naples: <Response [200]>\n",
      "Birmingham: <Response [200]>\n",
      "Perm: <Response [200]>\n",
      "Rostov-on-Don: <Response [200]>\n",
      "Odessa: <Response [200]>\n",
      "Volgograd: <Response [200]>\n",
      "Cologne: <Response [200]>\n",
      "Turin: <Response [200]>\n",
      "Voronezh: <Response [200]>\n",
      "Krasnoyarsk: <Response [200]>\n",
      "Saratov: <Response [200]>\n",
      "Zagreb: <Response [200]>\n",
      "Zaporizhzhia: <Response [200]>\n",
      "Lodz: <Response [200]>\n",
      "Marseille: <Response [200]>\n",
      "Riga: <Response [200]>\n",
      "Lviv: <Response [200]>\n",
      "Athens: <Response [200]>\n",
      "Thessaloniki: <Response [200]>\n",
      "Stockholm: <Response [200]>\n",
      "Kraków: <Response [200]>\n",
      "Valencia: <Response [200]>\n",
      "Amsterdam: <Response [200]>\n",
      "Leeds: <Response [200]>\n",
      "Tolyatti: <Response [200]>\n",
      "Kryvyi Rih: <Response [200]>\n",
      "Seville: <Response [200]>\n",
      "Palermo: <Response [200]>\n",
      "Ulyanovsk: <Response [200]>\n",
      "Kishinev: <Response [200]>\n",
      "Genoa: <Response [200]>\n",
      "Izhevsk: <Response [200]>\n",
      "Frankfurt: <Response [200]>\n",
      "Krasnodar: <Response [200]>\n",
      "Wroclaw: <Response [200]>\n",
      "Glasgow: <Response [200]>\n",
      "Yaroslavl: <Response [200]>\n",
      "Khabarovsk: <Response [200]>\n",
      "Vladivostok: <Response [200]>\n",
      "Zaragoza: <Response [200]>\n",
      "Essen: <Response [200]>\n",
      "Rotterdam: <Response [200]>\n",
      "Irkutsk: <Response [200]>\n",
      "Dortmund: <Response [200]>\n",
      "Stuttgart: <Response [200]>\n",
      "Barnaul: <Response [200]>\n",
      "Vilnius: <Response [200]>\n",
      "Poznan: <Response [200]>\n",
      "Dusseldorf: <Response [200]>\n",
      "Novokuznetsk: <Response [200]>\n",
      "Lisbon: <Response [200]>\n",
      "Helsinki: <Response [200]>\n",
      "Malaga: <Response [200]>\n",
      "Bremen: <Response [200]>\n",
      "Sheffield: <Response [200]>\n",
      "Sarajevo: <Response [200]>\n",
      "Penza: <Response [200]>\n",
      "Ryazan: <Response [200]>\n",
      "Orenburg: <Response [200]>\n",
      "Naberezhnye Chelny: <Response [200]>\n",
      "Duisburg: <Response [200]>\n",
      "Lipetsk: <Response [200]>\n",
      "Hannover: <Response [200]>\n",
      "Mykolaiv: <Response [200]>\n",
      "Tula: <Response [200]>\n",
      "Oslo: <Response [200]>\n",
      "Tyumen: <Response [200]>\n",
      "Copenhagen: <Response [200]>\n",
      "Kemerovo: <Response [200]>\n"
     ]
    }
   ],
   "source": [
    "# get the API data and transform the records\n",
    "# the time.sleep function is used to omit the 60 calls per minute limit\n",
    "results = []\n",
    "\n",
    "for city in cities:\n",
    "    try:\n",
    "        result = get_weather_info(city['name'], city['coords'][0], city['coords'][1])\n",
    "        result = transform_dict(result, city['name'])\n",
    "        results.append(result)\n",
    "        time.sleep(1.5)\n",
    "    except:\n",
    "        result = {'datetime': datetime.now(),\n",
    "                  'city_name': city['name'],\n",
    "                  'co': \"\",\n",
    "                  'no': \"\",\n",
    "                  'no2': \"\",\n",
    "                  'o3': \"\",\n",
    "                  'so2': \"\",\n",
    "                  'pm2_5': \"\",\n",
    "                  'pm10': \"\",\n",
    "                  'nh3': \"\"}\n",
    "        results.append(result)\n",
    "        time.sleep(1.5)"
   ]
  },
  {
   "cell_type": "code",
   "execution_count": null,
   "metadata": {
    "application/vnd.databricks.v1+cell": {
     "cellMetadata": {
      "byteLimit": 2048000,
      "rowLimit": 10000
     },
     "inputWidgets": {},
     "nuid": "4106cd5f-5b6b-4503-bf2b-6b27c045843c",
     "showTitle": false,
     "title": ""
    }
   },
   "outputs": [],
   "source": [
    "# creating spark dataframes from newly gathered data and from previous notebooks calls (they are in a file now)\n",
    "df_new = spark.createDataFrame(pd.DataFrame(results).drop('components', axis=1))\n",
    "df_old = spark.read.option(\"header\", \"true\").option(\"inferschema\", \"true\").csv(\"/mnt/airpollution/clean_data.csv\")"
   ]
  },
  {
   "cell_type": "code",
   "execution_count": null,
   "metadata": {
    "application/vnd.databricks.v1+cell": {
     "cellMetadata": {
      "byteLimit": 2048000,
      "rowLimit": 10000
     },
     "inputWidgets": {},
     "nuid": "fe9fb171-498b-495f-bc99-2d058cf9a048",
     "showTitle": false,
     "title": ""
    }
   },
   "outputs": [],
   "source": [
    "# combine two datasets into one table\n",
    "df_old = df_old.union(df_new)"
   ]
  },
  {
   "cell_type": "code",
   "execution_count": null,
   "metadata": {
    "application/vnd.databricks.v1+cell": {
     "cellMetadata": {
      "byteLimit": 2048000,
      "rowLimit": 10000
     },
     "inputWidgets": {},
     "nuid": "823a638a-15e6-4722-bb85-bdcf2b5af2d1",
     "showTitle": false,
     "title": ""
    }
   },
   "outputs": [
    {
     "data": {
      "text/plain": [
       "True"
      ]
     },
     "execution_count": 77,
     "metadata": {},
     "output_type": "execute_result"
    }
   ],
   "source": [
    "# write the data to a single file, then move the file with data out of the logs directory\n",
    "df_old\\\n",
    " .coalesce(1)\\\n",
    " .write\\\n",
    " .mode(\"overwrite\")\\\n",
    " .option(\"header\", \"true\")\\\n",
    " .format(\"com.databricks.spark.csv\")\\\n",
    " .save(\"/mnt/airpollution/logs\")\n",
    "\n",
    "# Get the name of the CSV file that was just saved to Azure blob storage (it starts with 'part-')\n",
    "files = dbutils.fs.ls(\"/mnt/airpollution/logs\")\n",
    "output_file = [x for x in files if x.name.startswith(\"part-\")]\n",
    "\n",
    "# Move the CSV file from a sub-folder (logs) to the data folder\n",
    "# While simultaneously changing the file name\n",
    "dbutils.fs.mv(output_file[0].path, \"%s/clean_data.csv\" % \"/mnt/airpollution\")"
   ]
  }
 ],
 "metadata": {
  "application/vnd.databricks.v1+notebook": {
   "dashboards": [],
   "language": "python",
   "notebookMetadata": {
    "mostRecentlyExecutedCommandWithImplicitDF": {
     "commandId": 1327503451907500,
     "dataframes": [
      "_sqldf"
     ]
    },
    "pythonIndentUnit": 4
   },
   "notebookName": "air-pollution-notebook",
   "widgets": {}
  },
  "language_info": {
   "name": "python"
  }
 },
 "nbformat": 4,
 "nbformat_minor": 0
}
